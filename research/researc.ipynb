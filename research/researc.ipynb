{
 "cells": [
  {
   "cell_type": "markdown",
   "metadata": {},
   "source": [
    "## Importing Libraries"
   ]
  },
  {
   "cell_type": "code",
   "execution_count": 95,
   "metadata": {},
   "outputs": [],
   "source": [
    "from dotenv import load_dotenv\n",
    "import os\n",
    "from groq import Groq\n",
    "from langchain.prompts import PromptTemplate\n",
    "from langchain.embeddings import HuggingFaceEmbeddings\n",
    "from langchain.document_loaders import DirectoryLoader, PyPDFLoader\n",
    "from langchain.text_splitter import RecursiveCharacterTextSplitter\n",
    "import chromadb\n",
    "from chromadb.config import Settings\n",
    "import faiss\n",
    "import numpy as np\n",
    "from langchain.vectorstores import FAISS"
   ]
  },
  {
   "cell_type": "markdown",
   "metadata": {},
   "source": [
    "## checking llama from groq"
   ]
  },
  {
   "cell_type": "code",
   "execution_count": 6,
   "metadata": {},
   "outputs": [],
   "source": [
    "load_dotenv()\n",
    "GROQ_API = os.environ.get(\"GROQ_ENV\")\n"
   ]
  },
  {
   "cell_type": "code",
   "execution_count": 11,
   "metadata": {},
   "outputs": [
    {
     "name": "stdout",
     "output_type": "stream",
     "text": [
      "Mount Everest, also known as Chomolungma or Sagarmatha, is located in the Himalayas mountain range in Asia. It is situated on the border between Nepal and Tibet, China.\n",
      "\n",
      "To be more specific, the summit of Mount Everest is located at:\n",
      "\n",
      "* Latitude: 27.9881° N\n",
      "* Longitude: 86.9253° E\n",
      "* Elevation: 8,848 meters (29,029 feet) above sea level\n",
      "\n",
      "The mountain is part of the Mahalangur Himal sub-range of the Himalayas, and it is considered one of the most iconic and challenging mountains to climb in the world.\n"
     ]
    }
   ],
   "source": [
    "\n",
    "client = Groq(\n",
    "    api_key=  GROQ_API,\n",
    ")\n",
    "\n",
    "chat_completion = client.chat.completions.create(\n",
    "    messages=[\n",
    "        {\n",
    "            \"role\": \"system\",\n",
    "            \"content\": \"you are a helpful assistant.\"\n",
    "        },\n",
    "        {\n",
    "            \"role\": \"user\",\n",
    "            \"content\": \"Where is mount everest located\",\n",
    "        }\n",
    "    ],\n",
    "    model=\"llama3-8b-8192\",\n",
    "    temperature=0.5,\n",
    "    top_p=,\n",
    "    stop=None,\n",
    "    max_tokens=200\n",
    "\n",
    "\n",
    "\n",
    ")\n",
    "\n",
    "print(chat_completion.choices[0].message.content)"
   ]
  },
  {
   "cell_type": "code",
   "execution_count": 13,
   "metadata": {},
   "outputs": [
    {
     "name": "stdout",
     "output_type": "stream",
     "text": [
      "('id', 'chatcmpl-36a58436-0734-47cc-a1ef-bcdb5f8841ff')\n",
      "('choices', [Choice(finish_reason='stop', index=0, logprobs=None, message=ChatCompletionMessage(content='Mount Everest, also known as Chomolungma or Sagarmatha, is located in the Himalayas mountain range in Asia. It is situated on the border between Nepal and Tibet, China.\\n\\nTo be more specific, the summit of Mount Everest is located at:\\n\\n* Latitude: 27.9881° N\\n* Longitude: 86.9253° E\\n* Elevation: 8,848 meters (29,029 feet) above sea level\\n\\nThe mountain is part of the Mahalangur Himal sub-range of the Himalayas, and it is considered one of the most iconic and challenging mountains to climb in the world.', role='assistant', function_call=None, tool_calls=None))])\n",
      "('created', 1726410746)\n",
      "('model', 'llama3-8b-8192')\n",
      "('object', 'chat.completion')\n",
      "('system_fingerprint', 'fp_6a6771ae9c')\n",
      "('usage', CompletionUsage(completion_tokens=132, prompt_tokens=27, total_tokens=159, completion_time=0.11, prompt_time=0.004860752, queue_time=0.008465016999999998, total_time=0.114860752))\n",
      "('x_groq', {'id': 'req_01j7v1jtkqe3e8szms8d7atkz3'})\n"
     ]
    }
   ],
   "source": [
    "for chunk in chat_completion:\n",
    "    print(chunk)"
   ]
  },
  {
   "cell_type": "markdown",
   "metadata": {},
   "source": [
    "## Using langchain"
   ]
  },
  {
   "cell_type": "code",
   "execution_count": 16,
   "metadata": {},
   "outputs": [
    {
     "name": "stdout",
     "output_type": "stream",
     "text": [
      "You are a chatbot that answers user queries based on the provided documents or context. Help users in an engaging, conversational manner.\n",
      "User: where is mount everest located\n",
      "Chatbot:\n"
     ]
    }
   ],
   "source": [
    "from langchain.prompts import PromptTemplate\n",
    "from langchain.chains import LLMChain\n",
    "user_query = \"where is mount everest located\"\n",
    "template = \"\"\"You are a chatbot that answers user queries based on the provided documents or context. Help users in an engaging, conversational manner.\n",
    "User: {user_query}\n",
    "Chatbot:\"\"\"\n",
    "\n",
    "prompt = PromptTemplate(input_variables=[\"user_query\"], template=template)\n",
    "# Format the prompt with the user query\n",
    "formatted_prompt = prompt.format(user_query=user_query)\n",
    "\n",
    "# Output the formatted prompt\n",
    "print(formatted_prompt)"
   ]
  },
  {
   "cell_type": "code",
   "execution_count": 21,
   "metadata": {},
   "outputs": [],
   "source": [
    "#extracting data from the pdf\n",
    "def load_pdf(data):\n",
    "    loader = DirectoryLoader(data, glob=\"*.pdf\", loader_cls=PyPDFLoader)\n",
    "    documents = loader.load()\n",
    "    return documents"
   ]
  },
  {
   "cell_type": "code",
   "execution_count": 23,
   "metadata": {},
   "outputs": [],
   "source": [
    "extracted_data = load_pdf(\"../data/pdfs\")"
   ]
  },
  {
   "cell_type": "code",
   "execution_count": 24,
   "metadata": {},
   "outputs": [
    {
     "data": {
      "text/plain": [
       "[Document(metadata={'source': '..\\\\data\\\\pdfs\\\\mountainpeaks.pdf', 'page': 0}, page_content='See discussions, st ats, and author pr ofiles f or this public ation at : https://www .researchgate.ne t/public ation/353620262\\nMou ntain Peaks of Nepal Himala ya\\nArticle \\xa0\\xa0 in\\xa0\\xa0Journal of T ourism and Himalay an Adv entures · June 2021\\nDOI: 10.3126/ jtha. v3i1.39118\\nCITATIONS\\n0READS\\n2,204\\n1 author:\\nSher Bahadur Gurung\\nTribhuv an Univ ersity\\n59 PUBLICA TIONS \\xa0\\xa0\\xa033 CITATIONS \\xa0\\xa0\\xa0\\nSEE PROFILE\\nAll c ontent f ollo wing this p age was uplo aded b y Sher Bahadur Gurung  on 28 Oct ober 2021.\\nThe user has r equest ed enhanc ement of the do wnlo aded file.'),\n",
       " Document(metadata={'source': '..\\\\data\\\\pdfs\\\\mountainpeaks.pdf', 'page': 1}, page_content='Journal of Tourism and \\nHimalayan Adventures\\nAn International Research Journal\\nJune 2021, V ol. 3, ISSN: 2717-5030 (Print) 2738-9642 (Online)Nepal Mountain Academy\\nAbstract\\nNepal is a mountainous country with numerous peaks and pinnacles. It is shaped by tectonic movement, the action of gravity, and erosion. It is a gradual transition process from plain to mountain terrain. The present study explores the peaks of the Nepal Himalaya and visualizes the peaks as open sources for mountaineering. The height of Nepal Himalaya is derived from \\'Nepal Himalaya Inventory\\' Gurung (1994), \\'Inventory of Nepal Himalaya\\' (CDG, 2002), and \\'Spot Height Shape ﬁle\\' (DOS, 1998). The total number of peaks opened and mountaineering \\nroyalty are derived from the Department of Tourism. The spot height and administrative boundary are derived from the Department of Survey (DOS, 1998 & 2020). Shape ﬁles and \\nGoogle Earth are used to map the distribution of the Himalayan peaks of Nepal, and the height categories are based on mountaineering royalty reports. This study also discusses some essential aspects of royalty generation and seeks a better understanding in exploring and identifying peaks for further mountaineering activities.\\nKeywords:  Himalaya, Himalaya ranges, mountain peak, mountaineering, royalty\\nIntroduction \\nThe Himalaya uplifted when the Indian subcontinent started pushing northward against the \\nEurasian plate for the past 40 million years (Molnar & Tapponnier, 1977), whereas USGS claims that it has been uplifted since 50 million years ago (USGS, 1990). The tectonic movement, gravity, and erosive forces shaped the mountain peak feature on the Earth\\'s surface (Brondon & Printer, 2005). It is a gradual transition process from plain to mountain terrain.  Mountain peak regions consist of rugged terrain, a low-temperature climate regime, steep slopes, and remoteness. Kapos has used (as cited by Vivirol, Du¨rr, Messerli, Meybeck, & Weingartner, 2007) criteria based on altitude and slope in combination to represent the world’s mountain environments. Kapos Goudie (1985) de ﬁnes mountains as ‘‘substantial \\nelevations of the Earth’s crust above sea level resulting in localized disruptions to climate, drainage, soils, plants and animals (Vivirol, Du¨rr, Messerli, Meybeck, & Weingartner, 2007). The word \\'Himalaya\\' is derived from two Sanskrit words,- \"Hi-ma\\' snow, and \"a-la-ya,\" abode; and it means abode of snow. The Himalayan range is in the south and east of Asia, separating the plains of the Indian subcontinent from the Tibetan plateau, which is 2400 km long and 200 to 300 km wide (Yang & Zheng, 2004). According to geographical location, the Nepal Himalaya lies on the Eastern Himalaya (WWF, 2021) of the Asian continent, Sher Bahadur Gurung\\nCentral Department of Geography, Tribhuvan University\\nCorrespondence: sherbahadur@gmail.comMountain Peaks of Nepal Himalaya'),\n",
       " Document(metadata={'source': '..\\\\data\\\\pdfs\\\\mountainpeaks.pdf', 'page': 2}, page_content=\"64 | Gurung\\nwhich separates the Tibetan plateau and Ganga plain. Apollo (2017) classi ﬁed the Nepal \\nHimalaya as central Himalaya based on the longitudinal division of Himalayas. Similarly, based on climate-ecology and phytogeographical division, the Nepal Himalaya lies on the eastern part of the Kumaun Himalaya (Kumaun to Kali Gandaki) and the western part of eastern Himalaya (Kaligandaki to Satlaj River) (Gurung, 2004). \\nNepal is a mountainous country with numerous peaks and pinnacles. Its surface con ﬁguration \\nconsists mainly of mountains, hills, plateaus, basins, valleys, and plain/Terai of varying altitude and magnitude. It is home to the world's highest peak, Sagarmatha (Mt. Everest) 8848.86 m asl (MoCTCA, 2020), as well as a number of 8000 meters exceeding snow-capped mountains. Other  highest eight-thousanders also lie within Nepal's territory: Kanchenjunga, Lhotse, Makalu, Cho-Oyu, Dhaulagiri, Manaslu and Annapurna exist in Nepal. These mountains are often called nature's water towers so that these are sources of freshwater. About half of all humankind directly depends on mountain resources, primarily water (Sharma,  Molden, Rahman, Khatiwada, Zhang, Singh, Yao, & Wester, 2019). \\nThe Nepal Himalaya is home to 26.5 million people (CBS, 2014), and it serves the downstream \\nlarge population of the world because the ecosystem of the region depends on the Himalaya system. Its scenic beauty and adventurous attractions magnetize the world's tourists and mountaineers/ mountain enthusiasts (Howard, 2016). According to Pomfret and Hales (cited by Musa, James, & Anna, 2015), mountaineering is mountain-based adventure tourism. It has gained immense worldwide popularity. The high water towers (Himalayan water reserves) attract many people for cultural reasons as well. Mountaineers devotedly offer prayers and prayer ﬂags at the top. According to Buddhism and Hinduism, the mountains are \\nconsidered sacred places of the divine presence.\\nIn 1590, Antonio Monserrate accurately sketched the Himalaya ranges, and in 1733 a French \\ngeographer, Jean-Baptiste Bourguignon d’Arville, compiled the ﬁrst map of Tibet and the \\nHimalayan range based on systematic exploration (Britanica, 2021). In the mid 19th century, Nepal and Indian mountains were measured by the systematic trigonometric survey, and during this time, the highest peak of the world was named Sagarmatha (Mt. Everest) after Sir George Everest in 1865. In Nepal, the ﬁrst efforts were carried out to mapping peaks in the \\nNepal Himalaya in 1994 (Gurung, 1994) based on available topographic maps. Central Department of Geography (CDG) of TU prepared an inventory of mountain peaks of Nepal Himalaya in support of Nepal Tourism Board (CDG, 2002) and Survey Department, Government of Nepal, publishing spot heights including Himalaya peaks of Nepal (DOS, 1998). The total number of Himalayan peaks varies with different studies. So, the present study explores the peaks of the Nepal Himalaya as open spots for mountaineering.\\nMethod and materials\\nThe distribution of the Himalayan peaks of Nepal is presented based on secondary data. The heights of Nepal Himalaya are derived from 'Nepal Himalaya Inventory' (Gurung, 1994), 'Inventory of Nepal Himalaya' (CDG, 2002), and spot height shape ﬁle (DOS, 1998). The \\nstudy of Gurung is based on Indian topo-sheet and the scale is 1:50000. The study of CDG is  based on a topo-sheet of the eastern part to the Annapurna range. Rest of the database is based on an Indian topo sheet, boundary map between Nepal and China. The spot height is based on a 1:50000 map scale. The total number of peaks opened and mountaineering royalty in 2015 are derived from the Department of Tourism. The spot height and administrative \"),\n",
       " Document(metadata={'source': '..\\\\data\\\\pdfs\\\\mountainpeaks.pdf', 'page': 3}, page_content=\"Journal of Tourism and Himalayan Adventures, V ol. 3, ISSN: 2717 -5030 (Print) 2738-9642 (Online)   Mountain ... | 65\\nboundary is derived from the Department of Survey (DOS, 1998 & 2020). Shape ﬁles and \\nGoogle Earth are used to map the distribution of the Himalayan peaks of Nepal. The Himalayan peaks' height categories are based on mountaineering royalty report (DOT, 2015). The Himalaya ranges and peaks are visualized using Geographic Information System  (GIS).\\nTable 1: Sources of Nepal Himalayan peaks\\nS.No. Publication Types of Data Source \\n1 Nepal Himalaya Inventory Hard Copy Gurung, 1994\\n2 Inventory of Nepal Himalaya Hard Copy & Digital Shape ﬁle CDG, 2002\\n3 Spot Height Topographic map & Digital Shape ﬁle Dos, 1998\\nResult \\nOrigin of Nepal Himalaya\\nAccording to USGS (1999), 3 billion years ago, all the present continents were in one place \\ncalled Pangaea. Extreme heat from lava and magma inside the Earth ﬂowed in and out of the \\nearth, causing continental reclamation. In the course of continuous ﬂow, the Asian and Indian \\nplates collided with each other (the Tethys Sea between the Asian and Indian plates, (See Fig 1) and the Himalayas ﬁrst raised about 650 million years ago, the Mahabharata (mountainous \\nterrain) and the Chure mountains about 600 and 250 million years ago respectively. The movement of continental plates of the Earth's surface follows the thermodynamic principle. This sequence is still continuous, and thus the present Himal, Mid Hill, Mahabharat, and Chure originated (See Fig 2).\\nThe mountains and hills of Nepal occupy 77 percent, and single high mountains occupy 25 \\npercent (Gurung, 2004).\\nFigure 1:  Tectonic plate   \\nSource: After USGS, 1999    \\nFigure 2:  Himalaya ranges\\nSource: Google earth, 2020\\n\"),\n",
       " Document(metadata={'source': '..\\\\data\\\\pdfs\\\\mountainpeaks.pdf', 'page': 4}, page_content='66 | Gurung\\nNepal Himalaya ranges \\nThe erosive power of perennial snow-fed rivers dissected the Himalayas and formed the \\nHimalaya ranges. Gurung (1994) has listed 28 Himalaya ranges with native names and sub-ranges of some main ranges. The highest peak, Sagarmatha, lies on Mahalangur Himalayan range. The above 8000-meter height peaks lay on Kanchanjunga, Manaslu, Annapurna, and Dhaulagiri Himalayan ranges.\\nTable 2: Himalayan ranges\\nS. N.  Himalayan ranges Highest peak S. N. Himalayan ranges Highest peak \\n1 Kanchenjunga 8586 m 15 Damodar  6701 m 2 Janak  7462 m 16 Nilgiri  7063 m 3 Umbek 6430 m 17 Annapurna 8093 m \\n4 Mahalangur 8848.86 m 18 Dhaulagiri  8169 m \\n5 Rolwaling 7140 m 19 Mustang  6372 m 6 Pamari   6160 m 20 Gauttam   6142 m 7 Jugal  7462 m 21 Palchung   6160 m \\n8 Langtang  7227 m 22 Kanjiroba  6885 m \\n9 Ganesh 7422 m 23 Kanti  6817 m \\n10 Sringi 7187 m 24 Gorakh  6258 m 11 Kutang  6498 m 25 Changla  6721 m \\n12 Manaslu 8163 m 26 Chandi  6249 m \\n13 Peri 7140 m 27 Nalakanker  6369 m14 Lugula  7035 m 28 Gurans 7132 m\\nSource: After Gurung, 1994\\nFigure 3:  Himalaya ranges of Nepal\\nSource: CDG, 2002##\\n##\\n###\\n####\\n####\\n#\\n###\\n##\\n#####\\n#\\n#\\nSringi\\nRolwalingPamariLangtang GaneshManaslu\\nUmbakKutang\\nAnnapurnaNilgiriLugulaPalchung Hagma\\nGautamKanjirobaNalakankar\\nJanakChangla\\nKanchanjungaMahalangurJugalPeriDamodarMustang\\nDhaulagiriGautamKantiGorakhChandi\\nGurans713263696249\\n6721\\n6258\\n6817\\n68856160\\n61426372\\n8169\\n809370636701\\n7035\\n7140\\n81636498\\n7187\\n7422\\n72277462\\n616071408848\\n64307462\\n8586\\n86°38\\'0\"E86°38\\'0\"E\\n84°17\\'40\"E84°17\\'40\"E\\n81°57\\'20\"E81°57\\'20\"E\\n29°17\\'0\"N29°17\\'0\"N\\n26°56\\'40\"N26°56\\'40\"NHimalayan Ranges of Nepal\\n# Major Peak\\nHimalayan Range\\nLocal Adminstrative Boundary\\nInternational_Boundary±\\n0 60 120 180 240 30Km'),\n",
       " Document(metadata={'source': '..\\\\data\\\\pdfs\\\\mountainpeaks.pdf', 'page': 5}, page_content='Journal of Tourism and Himalayan Adventures, V ol. 3, ISSN: 2717 -5030 (Print) 2738-9642 (Online)   Mountain ... | 67\\nThe Highest peak of Jank, Umbek, Rolwaling, Pamari, Jugal Langtang, Ganesh, Sringi, \\nKutang, Peri, Lugula, Damodar, Nilgiri, Mustang, Gauttam, Palchung, Kanjiroba, Kanti, Gorkha, Changla, Chandi Nalakankar, and Gurans are 7462 m., 6430 m., 7140 m., 6160 m., 7462 m., 7227 m., 7422 m., 7187 m., 6498 m., 7140 m., 7035 m., 6701 m., 7063 m., 6372 m., 6142 m., 6160 m., 6885 m., 6817 m., 6258 m., 6721 m., 6249 m., 6369 m., and 7132 m. asl respectively.\\nDistribution of mountain peaks of Nepal Himalaya\\nGurung (1994) lists out a total of 1310  mountain peaks of Nepal above 6000 meters based on a survey of India topographic sheets at a scale of one inch to a mile (1:63360) and maps prepared for the Sino-Nepal Boundary Agreement of 1979. There are 17 peaks above 8000 m height, including the Sagarmatha (Mt. Everest, 8848.86 m), the highest peak of the world (MoCTCA, 2020). The mountain ranges from 7501 to below 8000 meters and ranges from 7000 to 7500 meters constitute 40 and 87 number peaks respectively.  There are 301 (23 percent) and 865 (about 66 percent) peaks that range from 6500 to 7000 meter and 6000 to 6500 meter, respectively (see table 1). About 20 percent of the peaks are identi ﬁed with \\nspeciﬁc names.\\nTable 3: Inventory of Nepal Himalaya\\nS. No. Categories No. of Peaks Percent\\n1 >= 8000 17 1.32 7501 - 7999 40 3.05\\n3 7000 - 7500 87 6.64\\n4 6501 - 6999 301 22.985 6000 - 6500 865 66.03\\nTotal 1310 100\\nSource: Gurung, 1994\\nCDG (2002) listed 1792 mountain peaks of Nepal above 5000 meters based on the topographic \\nmap prepared by the Department of Survey from Kanchanjunga to Annapurna range and Nepal, and the Sino-Nepal Border map was used for the rest of the western Himalayan ranges. The study ﬁnds out there are 15 peaks above 8000 meters, including Sagarmatha (Mt. \\nEverest). The peaks below 6500 meters occupy 82.48 percent. Above 7500 to 8000, 7000 to 7500, 6500 to 7000, and below 6500 meters heights peaks are 29, 73, 197 and percent share 1.62, 4.17, 11 and 82.48 percent respectively (See Table 3).\\nTable 4: Inventory of Nepal Himalaya\\nS. No. Peak Categories No. of Peaks Percent\\n1 >=8000 15 0.842 7501 - 7999 29 1.62\\n3 7000 - 7500 73 4.07\\n4 6501 - 6999 197 10.995 <=6500 1478 82.48\\nTotal 1792 100.00\\nSource: CDG, 2002'),\n",
       " Document(metadata={'source': '..\\\\data\\\\pdfs\\\\mountainpeaks.pdf', 'page': 6}, page_content='68 | Gurung\\nFigure 4:  Himalaya peaks of Nepal\\nSource: CDG, 2002\\nThe spot height and peaks’ height of Nepal are published from the Survey Department of Nepal in the form of hardcopy and digital shape ﬁle (DOS, 1998).  There are 9321 spots and \\nheights mapped in the topographic map of Nepal. There are 23 places greater than 8000 meter, and 57 places are more than 7500 meters to 8000 meters which share 0.25 percent and 0.61 percent, respectively. There are also 7000 m to 7500, 6500 m to 7000 and less than 6500 m ranges; peaks and spot heights comprise 115, 364 and 8762 numbers respectively and 1023, 3.91 and 94 percent share respectively (See table 4).\\nTable 5: Spot heights\\nS. No. Peaks categories No. of Peaks Percent\\n1 >=8000 23 0.252 7501 - 7999 57 0.61\\n3 7000 - 7500 115 1.23\\n4 6501 - 6999 364 3.915 <=6500 8762 94.00\\nTotal 9321 100.00\\nSource: DOS, 1998\\n !\\n!!!\\n!!!\\n!!!!!!!!!\\n!\\n!!\\n!!\\n!#!\\n!!\\n!!!!!!\\n!!!!!!\\n!!!!\\n!##\\n!!!!\\n###\\n!#\\n!!#####!#!###\\n#\\n!!!!!!\\n!!!!\\n!\\n!!!\\n!!!!!!###!\\n!!!!!!\\n!!!!!!!!!\\n!!\\n!!!!\\n!!!!!!\\n!\\n!!!!!!!!!!!!!\\n!\\n!!!!!\\n!!\\n!!!!!!!!!!\\n!!!!!!!!!!!!!!\\n!!!!!!\\n!!!!\\n!!!!\\n!!#!!\\n!!!#\\n!!#!\\n!!\\n!\\n!\\n!!!\\n! !\\n!\\n! !!!\\n!\\n!!!!!!!!\\n!!!!!!!!!!!!!\\n!!!!\\n!!\\n!!\\n!\\n!\\n!\\n!!!!\\n!!!\\n!\\n!\\n!!!\\n!!!\\n!!\\n!\\n!\\n###!\\n!!\\n!!!\\n!! !\\n!\\n!!!!\\n!!!!!!!\\n!!!!!\\n!!\\n!!!!!!!!!!!!!\\n!!#!\\n!!!!!!!!!!!!!!!!!!!!\\n!\\n!\\n!!!#\\n!\\n!!!##\\n!!!!\\n!!!!####\\n!\\n!!!!\\n!!!\\n!!!!!!!!!!!\\n!!!\\n!!\\n!!!\\n!!!!!!!!\\n!!!!!!!!!!\\n!!!!\\n!!!!!!!!!!!!!!!\\n!#####\\n!###!!!!\\n!!!!!\\n!\\n!!!!!!!!!!!!!!\\n!!!!!!!!!!!!!!!!!!!!!!!!\\n!!!!\\n!!!\\n!\\n!\\n!!\\n!\\n!\\n#!##!\\n#!\\n!\\n!\\n!!#!####\\n!\\n!!!!!#!####\\n!\\n!#\\n!!!!!!!!!!!!!!!!\\n!\\n!!\\n!!!\\n!!!!!\\n!!!!!!!\\n!\\n!\\n!!!!!\\n!#\\n!!\\n!!!!!!!!!!\\n!!!!!!!\\n!\\n!!!!\\n!!!\\n!!\\n!!\\n!\\n!\\n!!!!!!!!\\n!\\n!!!!#!\\n!\\n!\\n!!!\\n!!\\n! !!!!!!!!!!\\n!!!\\n!!!!!!!\\n!!!!\\n!!!!!\\n!\\n!\\n!!\\n!!!\\n!!\\n!\\n!!!!\\n!!!!\\n!!!!!!\\n!!!!!!!!\\n!!!!!!!!!!!!!!!!!!!!!\\n!!!!!!!!!!\\n!!!!!!!\\n!\\n!!\\n!!!\\n!\\n!!!!!!!!!!!!!\\n!!!!!!!!\\n!!\\n!\\n!!!\\n!\\n!!\\n!\\n!\\n!\\n!!!!!\\n!\\n!!!\\n!!!\\n!!!!!!!!!\\n!!!!! !!!!!!#\\n!! !\\n!!!\\n!\\n!\\n!!\\n!!!#!!!\\n!!!\\n!\\n!\\n!#\\n!\\n!\\n!!!!!\\n!!!!!!! !!!!!!\\n#!!\\n!!\\n!!##!#!\\n!!\\n!!!\\n! !#!!!! !!!!!!!!\\n!!!\\n!!!!!#\\n!!!!\\n#!!!\\n!!\\n!\\n!!!#\\n!#!#####!\\n!!!!!!\\n!!!!!\\n!!!!\\n!!!!!!\\n!\\n!!!!!!!!\\n!!!!\\n!!!!!#!##!!!!!!!!!!\\n!! !\\n!!!!!!\\n!!!!\\n!\\n!!##!##!#\\n!\\n!!!!!!!!!!!!!!\\n!!!!!!!!!!!!!!!\\n!!\\n!\\n!\\n!\\n!!!!\\n!\\n!!\\n!! !!\\n!!\\n!\\n!!!!!!\\n!!!!\\n!\\n!!!!!!!\\n!!!!!!! !!!!!!!!!!\\n!!\\n!!\\n!!!!\\n!!!!!!\\n!\\n!!!\\n!!!!#\\n!\\n!!\\n! !! !##!!! !\\n!!!\\n!!#!!!!!#!!!\\n!##!\\n!\\n!!####\\n##\\n#!!\\n!!!!\\n!\\n!\\n!!!!!!!!!\\n!!!!!\\n! !!\\n!!!\\n!!!\\n! !!\\n!!\\n!#!! !!# !# !\\n!!\\n!\\n! !!!!!\\n!\\n!\\n!!!!!!!!\\n!\\n!#!##\\n!#\\n!!\\n!\\n!\\n!\\n!!!!! !\\n!\\n!!\\n!!\\n######\\n!\\n!!!\\n!!#!!##!!!\\n!\\n!!!!\\n!!!!\\n!\\n!\\n!\\n!!!\\n!\\n!\\n!!!\\n!!!!\\n!\\n!!\\n!!!\\n!\\n!!!!!!\\n!!!!\\n!!!\\n!!\\n!!!!!!\\n!!!!!\\n! !\\n!!!!!!!\\n!!!!!!!!!!!!!!!!!!\\n!\\n!!\\n!!\\n!!!!!!\\n!!!!!\\n! !\\n!\\n!\\n!\\n!\\n!!\\n!\\n!\\n!\\n!\\n!!\\n! !\\n!\\n!!!!!!!\\n!!!!\\n!!\\n!!!!!!! !!!!!!\\n!\\n!!!!!!\\n!!!!\\n!\\n!!! !!!!!!!\\n!!!!!\\n!!\\n!!\\n!!!\\n!!!!\\n!\\n!!!!\\n!!!!!\\n!\\n!\\n!!\\n!!!\\n!!\\n!!!!!!!!!!!\\n!!!!!\\n!\\n!\\n!!\\n!!!\\n!\\n!!\\n!\\n!\\n!\\n!\\n!\\n!!\\n!!!\\n!\\n!\\n!\\n!!\\n!!\\n!!!\\n!\\n!!!!!\\n!\\n!!\\n!!\\n!\\n!!!!!!!\\n!!\\n!\\n!!\\n!!!!!\\n!\\n!\\n!\\n!!!!!!!!!!!!\\n!!\\n!!!!!!!\\n!!!!!! !!! !!!!\\n!!\\n!\\n!\\n!!!!\\n!!\\n!!\\n!\\n!!\\n!!!\\n!\\n!!!\\n!!!\\n!\\n!\\n!!!\\n!!!!!!\\n!\\n!!\\n!\\n!\\n!\\n!!!!\\n!\\n!!!\\n!\\n!\\n!!!\\n!!!\\n!!!\\n!! !!!!\\n!\\n!!!!!!!!!!!\\n!\\n!!!\\n!!!!!!\\n!!!\\n!!!!!!!!! !!!!!!!!\\n!!\\n!!!!!!! !!\\n!!\\n!!\\n!\\n! !! !!!!\\n!\\n!! !!\\n!\\n!\\n!\\n!\\n!\\n!\\n!!\\n!!!!!\\n!!!!!!!!!!!!! !\\n!!\\n!! !!!\\n!!\\n!!\\n!\\n!\\n!\\n!!\\n! !!\\n!\\n!\\n!!!!\\n!!!!!!!!!\\n!\\n!\\n!\\n!!!!!!!\\n!!!!!!!!!! !\\n!\\n!!!!\\n!!\\n!\\n!!\\n!!!!!!!!!!!\\n!\\n##!# !\\n!\\n!\\n!\\nSringi\\nRolwalingPamariLangtang GaneshManaslu\\nUmbakKutang\\nAnnapurnaNilgiriLugulaPalchung Hagma\\nGautamKanjirobaNalakankar\\nJanakChangla\\nKanchanjungaMahalangurJugalPeriDamodarMustang\\nDhaulagiriGautamKantiGorakhChandi\\nGurans\\n86°38\\'0\"E86°38\\'0\"E\\n84°17\\'40\"E84°17\\'40\"E\\n81°57\\'20\"E81°57\\'20\"E\\n29°17\\'0\"N29°17\\'0\"N\\n26°56\\'40\"N26°56\\'40\"NHimalayan Peaks of Nepal\\n±\\n0 60 120 180 240 30KmPeaks\\nCategories\\n# >=8000\\n# 7501 - 7999\\n#7000 - 7500\\n!6501 - 6999\\n!<=6500Himalayan Range\\nLocal Adminstrative Boundary\\nInternational_Boundary'),\n",
       " Document(metadata={'source': '..\\\\data\\\\pdfs\\\\mountainpeaks.pdf', 'page': 7}, page_content='Journal of Tourism and Himalayan Adventures, V ol. 3, ISSN: 2717 -5030 (Print) 2738-9642 (Online)   Mountain ... | 69\\nFigure 5:   Himalaya peaks of Nepal\\nSource: DOS, 2002\\nPeaks open for mountaineering\\nDepartment of Tourism (2015) opened altogether 411 peaks for mountaineering where 14 peaks are greater than 8000 meters asl, including Sagarmatha. Out of the total, 24 peaks range from 7500 m to 8000 m asl. Similarly, 7000 m to 7500 m, 6500 to 7000 m, and less than 6500 m range peaks are 47, 138, and 188 in number, respectively. 45.74 percent peaks are up to 6500 m for mountaineering. 33.58 percent peaks are open in ranges from 6500 m to 7000 m asl. \\nTable 6: Mountain peaks open for mountaineering\\nS. N. Peak Categories No. of Peaks Percent\\n1 >=8000 14 3.41\\n2 7501 - 7999 24 5.843 7000 - 7500 47 11.444 6501 - 6999 138 33.585 <=6500 188 45.74\\nTotal 411 100.00\\nSource: DOT, 2020\\n !!!!!!!!\\n!!\\n!!\\n!\\n!\\n!!!!!!!!!\\n!\\n!!!!!\\n!!#!\\n!!!!!!!!!!!!!\\n!!!\\n!!!!!!!!!!!!!!!!!!!!!!!!!!!!!!! !!!!!!!!!!!!!!!!!!!!!!!\\n!!!!!!!!!!!!!!!!!!!!!!\\n!!!!!!!!\\n!\\n!!!!!!!\\n!!!!!!\\n!!\\n!!!!!!\\n!!\\n!!!!!!!!!!!!!!!!!!!!!!!!!!!!!!!!!!!!\\n!!!!!!!!!!!!\\n!!!!!!!!!!!!!!!!!!!!!!\\n!!!!\\n!!!!!!!! !!!!!!!!!!!!!!!!!!!!!!!!!!!!!!!!!!!!!!\\n!!!!!\\n!!!!!!!!!!!!!!!!!!!!!\\n!!!!!!!!!!!!!!!!\\n!!!!!!!!!!!!!!!\\n!!!!!!!!\\n!\\n!\\n!!!!!!!!!!!!!\\n!\\n!!!!!!!\\n! !!!!!!!!!!!!!!!!!!!!!!!!!!!!!!!!!\\n!!!!!\\n!\\n!!\\n!!\\n!!\\n!!!!!!!!\\n!!\\n!!!\\n!!!!!!!!!!!!!!!!!!!\\n!\\n!!!!!!!!!!!!!!!!!!!!!!!!!!!!!!\\n!!!!!!!!!!!!!\\n! !!!!!!!!!!!!!!!!!!!!!\\n!\\n!! !!!!!!!!!!!!!!!!!!!\\n!!!\\n!\\n!!!\\n!!!!!!!!!!!!!!!!!!!!\\n!!!!!!!!!!!!!! !!!!\\n!!!!!!! !!!!!\\n! !!!!!!!\\n!!!!!!!!!!!!!!!\\n!! !!!!!!\\n!!\\n!!!!!!!!!!!!\\n!!!!!!!\\n!!!!!!!!!!!!!!\\n!!!!!!!!!!!!!!!!!\\n!!!!!!!!!\\n!!!!!!!!!!!!!!!!!!! !!!!!!!!!!!!!!\\n!!!!!!!!!!!!!!!!!!!!!!!!!!!!!!!\\n!!!!!!!!!!!!\\n!!!!!!!!\\n!!!!!!!!!!!!!!!!!!!!!!!!!!!!!!!!!!!!!!\\n!!!!!!\\n!!!\\n!!!!!!!\\n!!!!!!!!!!!!!!!!!!!!!!!!!!!!!!!!!\\n!\\n!!!\\n!!!!!!!!!!!!!!\\n!!!!!!!\\n!!!!!!!!!!!!!!!!\\n!!!!\\n!!!!!\\n!!!!!!!!!!!!!!!!!!!!!!!!!!!!\\n!!!!\\n!!!!\\n!!!!!!!!!!!\\n!!!!!!!!!!!!!!!!!!!!!!\\n!!\\n!!!!\\n!!!!!\\n!!!!!!!!!!!!\\n!!!!!!!!!!!!!!!\\n!!!!!!!!!!!\\n!!!!!!!\\n!!!!!!!!!!!!!!!!!!!!!!!!!!!!!!!!\\n!!!\\n!!!!!!!!!!!!!!!!!!!!!!!!!!!!!\\n!\\n!\\n!!!!!!!!!!!!!\\n!!!!!!\\n!\\n!!!!!!!!!!!! !!!!!\\n!!!!!!!!!!!! !!!\\n!!!!!!!\\n!!!!!!!!!!!! !#!!!!\\n!#!\\n!!!!!\\n!!!\\n!\\n!!!!\\n!\\n!!!!!!!!!!!!\\n!!!!\\n!\\n!!!!!!!!!!!!!!!!!!\\n!!!!!!!!!!\\n!!!!!!!!!!!!!!!!!!!!!!!!\\n!!!\\n!\\n!\\n!!!!!!!!\\n!!!!!!!!\\n!!!!\\n!!! !!!!!!!!!!!!!!\\n!!\\n!!!!!!!!!!!!!!! !! !!!!!!!\\n!!!!!!!!!!!!!!!!!!!!!!!!!!!!!!!!!!\\n!!!!!!!!!!!!!!!!!!!!!!!!\\n!!!!!!!!!!!!!!!!!!!!!!!!!!!!!\\n!!!!!!!!!!!!!!!!!!!!!!!!!!\\n!!!!!!!!!!!!!!!!!!!!\\n!\\n!!!! !!!!!!!!!!!!!!!\\n!!\\n!!!!!!!!!!!!!!!!!!!!!!!! !!!!!!!!!!!!\\n!!!!!!!!!\\n!!!!!!!!!!!!!!!!!!!!!!!!!!!!!\\n!!!!!!!!!!!!!!!\\n!!!\\n!!!!!!!!!!!\\n!!!\\n!!!!!!!!!!!!\\n!!!!!!!!!!!!!\\n!!!!!\\n!!!!!!!!!!!!!!!!!!!!!!!!!!!!!!!!!!!!!!!!!!!!!!!!!!\\n!\\n!\\n!!!!\\n!!!!!!!!! !\\n!!!\\n!!!!!!!!!\\n!\\n!!\\n!\\n!!!\\n!!!\\n!!!!\\n!!\\n!!\\n!!\\n!\\n!!!!!!!!!!!!\\n!\\n!\\n!\\n!!!\\n!!!!!!!!\\n!!!!!!\\n!\\n!!!!\\n!!!!!!!!!\\n!!!! !!!!!!!!!!\\n!!!!!!!!!!\\n!!!!!!!!!!!!!!\\n!!!!!\\n!!!!\\n!# !!!!!!!!!!!!!\\n!!!!!!!!!!!\\n!!!!!!!!!\\n!\\n!\\n!!!! !!!!!!!!!!!!!!\\n!!! !!!\\n! !!!!!!!!!!!!!!!!!!! !!!!!!!!!!!!!!\\n!!!\\n!!!!!!!!!!!!!\\n! !!!!!\\n!!!!!!\\n!!\\n!!!!!!!!!!!!!!!!!!!!!!\\n!!!\\n!!\\n!!!!!!!!!!!\\n!!\\n!!!!\\n!\\n!\\n!!!!!!!!!\\n!\\n!! !!!!! !!!\\n!!!\\n!!!!!!!!!! !!!!!!!!!\\n!!!!!!!!!!!!!\\n!!!!!!!!!!!!\\n!!!\\n!!!!!\\n!!!!!!!!!!!!!#!#!#!!!#!##!!!!\\n!!!!#!############!!!!!##!#!!!!!!!!!!!!!!!\\n!!!#!#!!!!!!!!!\\n!!!!!!!!!!!##!!!!\\n!\\n!!\\n!!!!!!!!!!!!!!!!!!!!!!!!!!!!!!!!!!!\\n!!!!!!!!!!!!!!\\n!!!!!!!!!!!!!!!!!!\\n!!!!!!!!!!!!!! !!!!!!!!!!!!!!!!!!!!!!!!!!!!!!!!!!!#!\\n!!!!\\n!!!!!!!!!!!!!!!!######!!!!!!!!!!!!!!!#!!!!!!!###!!!!#!!\\n!#!!!!!\\n!!!!!!!!!!!!#!!!!!!!!!!!!!!!!!!!!!!!!!!!!!!!!!!!!!!!!!!!!!!!!!!!!!!!!!!!!!!!!!!!!!!!!!!!!!!!!!\\n!!#####!!\\n!!!!!!\\n!!\\n!!!!!!!!!!!!!!!!!!!!!!!!!!!!!!!!!!#!###########\\n!!!!!!!!!!!!!!!!!!\\n!!!!!!!!!!!!!!!!!!!!!!!!!!!\\n!! !!!!!!\\n!!!!!!!!!!!!!!!!!!!!!!!!!!!!\\n!!!!!!!!!!!!!!\\n!!!!!!!!\\n!!!!!!! !!!!!!\\n! !\\n!! !!!!!!!!!!!\\n!! !!!!!!!!!\\n!!!!!!!!!\\n!!! !!!!!!!!!!!!!!!!!!!!!!!!!!!!!!!!!!!!!!!!##!!!!!!!!!!!!!!!!!!!!!!!!!!!!!!!!!!!!!!!!!!!!!!!!!!!!!!!!!!!!!!!\\n!!!!!!!!!!!!!!!!!!!!!!!!!!!!!!!!!!!!!!!!!!!!!!!!!!!!!!\\n!!!!\\n!!!!!!!#!!\\n!!\\n!!!!!!!!!!!!\\n!!!!!\\n!!!!!!!!!!!!!! !!!!!!!!!!!\\n!!!!!!!!!!!!!!!!!!!\\n!!!!!\\n!!!!!!!!\\n!!!!!!!!!!!!!!!!!!!!!!!!!!!!!!!!\\n!\\n!!!!!!!!\\n!\\n!!!\\n! !!!!\\n!!!!!\\n!!!!!!!!!!!!!!!!!!!!!!!!!!!!!!!!!!!!!!!!!!!! !!!!!!!!!!!!!!!!!!!!!!!!!!!!!!!!!!!!!!!!!!!!!!!!!!!!!!!!!!!!!!!!!!!!!!!!!!\\n!!!!!!!\\n!!!!\\n!!!!!!!\\n!!!! !!!!!!!!!!!!!!!!!!!!!!!!!!!!!!!!!!!!!!!!!!!!!!!!!!!!!!!!!!!!!!!!!!!!!!!\\n!!!!!!!!!\\n!!!!!!!!!!!!!!!!!!!!!!!!!!!!!!!!!!!\\n!!!!!!!!!!!!!!!!!!!!!!!\\n!!!\\n!!!!\\n!!!\\n!!!\\n!!!!\\n!!!!!!!\\n!!!! !!!!!\\n!!!!!!!\\n!!!####!!!!!!!!\\n!!!!!!!!!!!!!!!!!!!!!!!!!!!!!! !!!\\n!!!!!!!!!!!\\n!!!!!########!!!!!!!!!! !!!!\\n!!!!!!!!!!!!\\n!!!!! ! ! !! !! !!! ! !! !! ! ! ! !!\\n!!!!! !!!!!! !! !!! !! ! ! !!! !!! !! !!!!!!!\\n!!!!!!!!!!!!!\\n!!!!!!!!! !!! ! !!!!!!!!!!!!! !!!! !! !\\n!!!!!!!!! !! !!!!!!! ! !!!!!!! ! !\\n!!!!!!!\\n!\\n!!!!!!\\n!!!!!!!!!!!!!!!!!!!!!!!!!!!!!!!!!\\n!!!!!!!!!!!!!!!!!!!!!!!!!!!!!!!!!!!!!!!!!!!!!!!!!!!!!!!!!!!!!!!!\\n!!!!!!!!!!!!!##!#!!!!!!!!!!!!!!!!!!!!!!!!!!!!!\\n!!!! !!!!!!!!#!!!!!!!!!!!!!!!!!!!!!!!!!!!!!!!!\\n!!!!!!!!!!!!!!!!!!!!!!!!!!!!!!!!!!!!!!!\\n!!!\\n!!!!!!!!!!!!!!!!!!!!!!!!!!!!!!!!!!!!!!!!!!!!!!!!!\\n!!!!!!!!!!!!!!!!!!!!!!!!!!!!!\\n!!!!!!!!!!!!!!!!!!\\n!!!!!!!!!!!!!!!!!!!!!!!!!########!!!!!!!!####!\\n!!!!!!!!!!!!!!!!################# !\\n!!!!\\n!\\n!!!!!!!!!\\n!\\n!!!!\\n!!\\n!!!!\\n!!!\\n!!!!!! !!!!\\n!!!!!\\n!!!\\n!! !!!\\n!!\\n!!!!!!!!!!\\n!!\\n!!!!!!!!!!!!!!!!\\n!!\\n! !!!!!!!!\\n! !!!!!!!!!!\\n!!!!!!\\n!!!\\n!\\n!!!!\\n!!!\\n!!\\n!!!! !!!!!!!!!!!!! !!!!!!!!!!!!!!!!!!\\n!!!\\n!!! !!!!!!!!!!! !\\n!!!!!!!!!\\n!!!!!!!!#!!!!!!!!!#!!!!!!###!##!!!!!!\\n!!!!!!\\n!!!!!!!!!!!!!!!!!!!\\n!!!!!!!\\n!!!!!! !!!!!!!!!!!!!!!!!!!!\\n!!!!!!!!!!!!!!!!!!!!\\n!!!!!!!!!!!!!!!!!!!!!!!!!!!!!!!!\\n!!!!\\n!!!!!!!!!!!!!!!! !!!!!!!!\\n!!!!!\\n!!!!\\n!!!!!\\n!!\\n! !!!!!!!!!!!!!!!!!\\n!!!!!!\\n!!!!!!!!!!!!!!\\n!!!!!!!!!!!!\\n!!!\\n!!!!!!!!!!!!!!\\n!!!!!!!! !\\n!!!!!!!!!!!!!!!!!!!!!!!!!!!!\\n!!!!!!!!!!!!!!!!!!\\n!!!!!!!!\\n!!\\n!!!!!!!!!!!!!!\\n!!\\n!\\n!!!!\\n!!!!!!!!!!!\\n!!!\\n!!!!!!!!!!!\\n!!!!!!!\\n!!!!!!!!!!!!! !!!!\\n!!!!!!!!!!!!!!!!!\\n!!!!!!!\\n!!!!!!!!!!!!!!!!!!!!!!!!!!!!!!!!!!!!!!!!!\\n!\\n!!!!!!!!!!!!!\\n!!!!!!!!!!!\\n!!!!!!!!!!!!!!!!!!!!!!!!!!!!!!!!!!\\n!!!!!!!!!!!!!!!!!!!!!\\n!!!!!!!!!!!!!!!!!!!!\\n!!!!!!!!\\n!!!!!\\n!!!\\n!!!!\\n!!!!!!!!\\n!!!!!!!!!!\\n!!!\\n!!!!!!!!\\n!!!\\n!\\n!!\\n!!!!!!!!!\\n!!!\\n!\\n!!!!!!\\n!!!!!!\\n!!!!!\\n!!!! !!\\n!!!!!!!\\n!!!!\\n!!\\n!!!!\\n!!!!!!!!!!!\\n!!\\n!!\\n!!\\n!!!!!\\n!\\n!!\\n!!!!\\n!!!!!!!!!\\n!!\\n!!!!!!\\n!!!\\n!!!!!##!!!!!!\\n!\\n!!!!!!!!\\n!!!!!!!!!!!!!!!!!!!!!\\n!!!!!!!!!!!!\\n!!!!!!!!!\\n!!!!!!!!!!!!!!!!!!!!!!!!!!\\n!!!!!!!!!!!!!!!!!!!!!!!!!!! !!\\n!!!!!\\n!!!!\\n!!!!\\n!!!!!!! !!!\\n!!!!!!!!\\n!!!!!!!!!!!!!!!!!!!!!!!!!!!!!\\n!!!!!!!!!!!!!!!!!!!!!!!!!!!!!\\n!\\n!\\n!\\n!!!!!!!\\n!!!!!!!!\\n!!!!\\n!!#!!!!!!!!\\n!!\\n!!!\\n!!!!!!!!!!!!!\\n!!!!!!!!\\n!!!!!!\\n!!!!!!#!#!!!#!!#!!!!!\\n!\\n!!\\n!\\n!##\\n!!!####!!!!!!!\\n!!\\n!!\\n!!!##\\n!##!!!!\\n!\\n!\\n!!##!#!!\\n!!!!!!!!!!!!!!!#!\\n!!!!!!!!!!!!!!!!\\n!!!!#!!!\\n!!\\n!!!!\\n!!!!!!!!!!!!##!!!!##!!!!!\\n!!!!!!!##!!!!!!\\n!!!#!!\\n!!!!!!!!!!!!!#!!!!!!!!!!!!!!!!!!#####!! !!!!#####!!!!!!!\\n!!!!!!\\n!!\\n!!!!!!!!!!!!\\n!\\n!!\\n!!!!!!!!!!!!!!!!!!#!!\\n!!!!!!!!!!!!##!!!#!!!\\n!!!!\\n!\\n!\\n!!!!!!!!!!!!!!!!\\n!!!!!!###!!!!\\n!!!!###!######!!!!!!\\n!!!!!!!!\\n!!!!\\n!!!!!!!!!! !!!!!!!!!!! !!!!\\n!!!!!!!!!!!!!!!!!!!\\n!!!!!!!!! !\\n!\\n!! !!\\n!!!!!!\\n!!!!!!!!!!!\\n!!!!!!!!\\n!!!!!!!!!!!!!!!!!!!!!!!!\\n!\\n!!!!!!!!!!!!!\\n!!!!!!#!#! !!!!!!!!!!!!!!!!!!\\n!!!!!!!!!!!!!!!!!!!!!!!!!!!\\n!\\n!!!!!!!!!!!\\n!!!!!!!!!!!!!!!!!!!!!!!!\\n!!!!\\n!!!!!!!!!!!!!!!!!!!!!!\\n!!!\\n!!!!!\\n!!!!!!!\\n!!!!!!!!!!!!!!!!!!!!\\n!!!!\\n!!!!!!\\n!!!!!!!!!!!!!!!!\\n!!!!!!!!!!!!!!!!!!!!!!!!!!!!!!!\\n!\\n!!!!!!!!!!!!\\n!!!!\\n!!!!!!!!!!!\\n!!!!!!!\\n!!!!\\n!!!!!!!!!!!!!!\\n!!!!!!!\\n!\\n!!!!!!!!!!!!\\n!!!!\\n!!\\n!!!!!!\\n!!!!!!!\\n!!!!!!!!!!!!\\n!!!!!\\n!\\n!!!!!!!!!!!!!!!!!!!!!!!!!!!\\n!!!!!!!!!!\\n!!!!!!!!!!!!!!!!!!!!!!!!!!!!!!!\\n!!!!!\\n!!!!!!!!!\\n!!!!!!!!!!\\n!!!!!!!!!!\\n!!!!!!!!!!!!!!!!!!!!!!!\\n!!!!!!!!!!!\\n!!\\n!!!!!!!!!!!!!!!!\\n!!!!!\\n!!!!!!!!!!!!!!!!!!!!!!\\n!!!!!!!!!!!!!!!\\n!!!!!!!!\\n!!!!!!!!!!!!!!!!!!!!!!!!!\\n!!!!\\n!!!!\\n!!!!!!!!!!!!!!!!\\n!!!!!!!!!!!!!!!\\n!!!!!#!!!!\\n!!!!!!!!!!!!!!!!!!!\\n!!!!!!\\n!!!!!!!!!!!!!!!!!!!!!\\n!!!!!!\\n!!!\\n!!!!!!\\n!!\\n!!!!\\n!!!!!!!!!!!!!!\\n!!!!!!!!!!!!!!!!!!!!!!!!!\\n!!!!!!!!!!!!!!!!!!!!!!!!!!!!!!!!!\\n!!!!!!!!\\n!\\n!!!!!!!\\n!\\n!! !\\n!!!!!!!!!!!!!!!!!!!!!!!!\\n!\\n!!!!!!!! !!!!!!\\n!!!!!!! !!!!!!!!\\n!!\\n!!!!!!!!!!!! !\\n!!!\\n!!!\\n!!!!!!!!!!!!!!! !\\n!!!!!!!!\\n!! !\\n!!!!!!!!!!!!!!!!!!!!!\\n!!!!!!!!!!!!\\n!!!!!!!!!!!!!!!!!!!!!!!!!!!!!!!!!!!!!!!!!!!!!!!!!!!!!!!!!!!\\n!!!!!!!!!!!!!!!\\n!!!!!!!!!\\n!!!!!!!!!!!!!!!!!!\\n!!!!!!!!!!!!!!!!!!!!!!!!!!!!\\n!!!\\n!!!!!\\n!\\n!\\n!!!!!!!!! !!!\\n!!!\\n!!!!!!!!!!!!!!!!!!!\\n!!!!!!!!!!!\\n!!!!!!!!!!!!!!!!!!!!!!!! !!!!!!!!!!!!!!!!!#!!!!!!!#!!!!!!!!!!!!!!!!!!!!##!!!!!\\n!!#!!!! !!!!!!!!!!!!!!!!!!!!!!!!!!!!!!\\n!\\n!!!!!!!!!!!\\n!!!!!!!!!\\n!!!!!!!!! !!!!!!!!!!!\\n!!!!!!!!!!!!!!!!!!!!!!!!!\\n!!\\n!!\\n!!!!\\n!!!!!!\\n!\\n!!\\n!!!!!\\n!!!\\n!!!!!!!\\n!!!!!!!!!\\n!!!!!!!!!\\n!! !!!!!!!!\\n!!!!!!\\n!!!!!!!\\n!!!!\\n!!!\\n!!! !!!!!!!!!!\\n!!!!!!!!!!!!!!!!!!!!!!!!!!!!!!!!!!!!!!!!!!!\\n!!!!!!!!!!\\n!!!!!!!!!!!!!!!!!!!!!!!!!!!!!!\\n!!!!!!!!!!!!!!!!!!!!!!!!!!!!!!\\n!!!!!!!!!!!!!!!!!!!!!!!\\n!!!!\\n!!!!!!!!!\\n!!!!!!!!!\\n!!!!!!!!!!!!!!!!!!!!!!!!!!!!!!!!!!!!!!!!!!!!!!\\n!\\n!\\n!!!!!!!!!!!!!!!!!!\\n!!!!!!!!!!!!!!!!!!!!!!!!!!!!!!!!!!!!!!!!!!!!!!!!!\\n!!!!\\n!!!!!!!!!!!!!!!!!!\\n!!!!!!!!!!\\n!\\n!!!!!!\\n!!!!!!!!!!!!!!!!!!!!!!!! !!!!!!!!!!!!!!!!!!!!!!!!!!!!!!!!!!!!!!!!!!!!!!!!!!!!!\\n!!!!!!!\\n!!!!!!!!!!!!!!!!!!!!!!!!!!!!!!!!!!!!!!!!!!!!!!!!!!\\n!!!!!!!!!!!!!!!!!!!!!!!!\\n!!!!!!!!!!!!!!!!!!!!!!\\n!!!!!!!!!\\n!!!!!!!!!!!\\n!!!!!!!!!!!!!!!!!!!!!!!!!!\\n!!!!!!!!!!!!!!!!!!!!!!!!!!!!!!!!!!!!!!!!!!!\\n!!!!\\n!!!!!!!!!!!!!!!!!!!!!!!!!\\n!!!!!!!!!!!!!!!!!!\\n!!!!!!!!!!!!!!!!!!!!!!\\n!!\\n!\\n!!!!!!!\\n!!!\\n!!!!!!!!!!!!!!!!!!\\n!!!!!!!!!!!!!!!!!!!!!!!!!!!!!!!!!!!!!!\\n!!!!!!!!!!!!!!!!!!!!!!!!\\n!!!!\\n!!!!!!!!!!!!!!!!!!!\\n!!\\n!!!!\\n!!\\n! !!!!!!!!!!!!!!!!!!!!!!!\\n!!\\n!!!!!!!\\n!!!!!!!\\n!!! ! !!!!\\n!!!\\n!!!\\n!!!!!!!!\\n!!!!!\\n!!!!!\\n!!!!!!!!!!!!!!!!!\\n!!\\n!!!!!!!!!!!!!\\n!!!!!!!!!!\\n!!!!!!!!\\n!!!!!!!!!!!!!!!!!!!!!!\\n!!!!!\\n!!!!!!!!!!!!!!!!!!!!!!!!!!!!!!!!!! !!!!!!!!!!!!!!!! !!!!!!!!!!!!!!!!!!!!!\\n!!!!\\n!\\n!!!!!!!!!\\n!!!!!!!!\\n!!!!\\n!!!\\n!\\n!!!!\\n!!!!!!!!!!!!!!!!!!!!!\\n!\\n!!!!!!!!!!\\n!!!!!!!!!\\n!!!!!\\n!!!!!!!!!!!!!!!\\n!!!!!!!!!!\\n!!!!!!!!!!\\n!!!!!!!!!!!!!!!!!!!!!!!!!!!!!!!!!!!!!!!!!\\n!!!!!!!!!\\n!!\\n!!!!!!\\n!!\\n! !!!!!!!! !!!!!!!!!!!!!!!!!\\n!!!!!!!\\n!!!!!!!!!! !!!!!!!\\n!!!!!!!!!!!\\n!!\\n!\\n!\\n!!!!\\n!!!!\\n!!!!!!!!!!!!!!!!!!!!!!!\\n!!!!!!!!!!!!!!!!\\n!!!!!!\\n!!!!!!!!!!!!\\n!!!!!!!!!!\\n!!!!!\\n!!!!!!!!\\n!!!!!!!!!!!!!!!!!!!!!!!!!!!!!!!!!!!!!!!!\\n!!!!!!!\\n!!\\n!!!!!!!!!!!!!!!!!!!!!\\n!!!!!!!!!\\n!!!!!!!!\\n!!!!!!!!\\n!!!!!!!\\n!!!!!!!!!!!\\n!!!!\\n!\\n!\\n!!!!!!!!!!!!!!!!!!!!!!!!\\n!!!\\n!!!!!!!!!!!\\n!!!!!!!!!!!!!!\\n!\\n!!!!!\\n!!!!!\\n!!!!!\\n!!!!!!\\n!!!!!!!!!!!!!!!!!!!!!!!\\n!!\\n!!!!!!!!!!!!!!!!!!!!!!\\n!!!!!!!!!!!!!!\\n!!!!!!!!!!\\n!!\\n!!\\n!!!!!!!!!!!!!!!!!!!!!!!!!!!!!!!!!\\n!!!!!\\n!!!!!!!!!!!!!!!!\\n!\\n!!!!!!\\n!\\n!!!!!!!!!!!!!!\\n!!!!!!!!!!!!!!!!!!!!!!!!!!!! !\\n!!\\n!!!\\n!\\n!!!!!!!\\n!!!\\n!!!!!!!!!!!!!!!\\n!!!!!!!!!!!!!!\\n!!!!!!!#!\\n!!!!!!!!\\n!!!!!!!!!#!!!!#!!!!!\\n!!!!!!!!!!!\\n!!\\n!! !!!!!!!!!!!!\\n!!!!!!!!!!!!!!\\n!!!!!!!!!!!!!!!\\n!!!!!!!!!!\\n!!!!!!\\n!\\n!!!!!!!!!!!!!!\\n!\\n!!!\\n!!!!!!!!!!!!!!!!!!!!!!\\n!!\\n!\\n!\\n!!!!!!!!!!!!!!!!!!!!!!!\\n!!!!!!!!!!!!!!!!!!!!\\n!!!!!!!!!!!!!!!!!!!!!!!!!!!!!!!!!!!!!!!!!!!!!!!!!!!!!!\\n!!!!!\\n!!!!!!!!!!!!!!!!!!!!!!!!!!!!!!!\\n!!!!!!!!!!!!!!!!!!!!!!!!!!!!!!!!!!!!!!!!!!!!!!!!!!!!!!\\n!!!!!!!!!!!\\n!!!!!!!!!! !!!!!!!!!!!!!!!!!!!!!!!!!!!!!!!!!!!!!!!\\n!!\\n!!!\\n!!!!!####!!####!\\n!!!!!#!!!!!!!\\n!!!\\n!!!!!!!!!!!!!!!!!!!!!!!!!!!!!!!!!!!!!!\\n!!!!!!!!!!\\n!!!!\\n!!!!!!!!!! !\\n!\\n!!!!!\\n!\\n!!!\\n!!! !!!!!!!!!!!!!!!!!!!!!!!!\\n!!!!!!!!!!!!!!!\\n!!!!!!!!!!!!!!!!!!\\n!!!!\\n!!!!!!!!!!!!!!!!!\\n!!!!!!!!!!!!!\\n!!!!!!!!!!!!!!!!!!!!!!!!!!!!!!!!!##!!!!!!\\n!!!!!!!!!!!!\\n!!!!#!\\nSringi\\nRolwalingPamariLangtang GaneshManaslu\\nUmbakKutang\\nAnnapurnaNilgiriLugulaPalchung Hagma\\nGautamKanjirobaNalakankar\\nJanakChangla\\nKanchanjungaMahalangurJugalPeriDamodarMustang\\nDhaulagiriGautamKantiGorakhChandi\\nGurans\\n86°38\\'0\"E86°38\\'0\"E\\n84°17\\'40\"E84°17\\'40\"E\\n81°57\\'20\"E81°57\\'20\"E\\n29°17\\'0\"N29°17\\'0\"N\\n26°56\\'40\"N26°56\\'40\"NSpot Height\\n±\\n0 60 120 180 240 30KmSpot Height\\nCategories\\n# >=8000\\n# 7501 - 7999\\n#7000 - 7500\\n!6501 - 6999\\n!<=6500Himalayan Range\\nLocal Adminstrative Boundary\\nInternational_Boundary'),\n",
       " Document(metadata={'source': '..\\\\data\\\\pdfs\\\\mountainpeaks.pdf', 'page': 8}, page_content='70 | Gurung\\nFigure 6:  Himalaya peaks of Nepal\\nSource: DOT, 2002\\nThe Department of Tourism, Government of Nepal, ﬁxed the mountaineering royalty for \\nforeign climbers under the height of peak, season, and route. The Sagarmatha regular route’s (South Col route) royalty for spring season is 11000 US$ and autumn season is 5500 US$. The royalty for another route of Sagarmatha for the spring season is 10000 US$ and the autumn season is 5000 US$. The other eight-thousander peaks’ royalties are 1800 US$ for spring and 900 US$ for autumn season. The mountain peaks ranging from 7500 m to 8000, 7000 m to 7500 m, and 6500 m to 7000 m height’s royalty for spring season are 600 US$, 500 US$ and 400$ respectively and for autumn season’s royalty are 300 US$, 250% and 200 US$ respectively. In the case of Amadablam, the royalty for spring and autumn season is 400 US$. The mountain peaks range below 6500 m height’s royalty is 250 US$ for spring and 125 US$ for autumn season. \\nTable 7: Mountaineering royalty for foreign climber per person in American Dollar \\n(US$)\\nS. N. Peak Categories Spring Season Autumn Season\\n1 Everest Normal route 11000 55002 Everest Other route 10000 50003 Other Mountain Peaks >=8000 1800 9004 7501 - 7999 600 300\\n5 7000 - 7500 500 250# !\\n!!\\n!!\\n!\\n!#\\n######\\n!!\\n!\\n!\\n!\\n!#!\\n!!!!\\n!!\\n!!\\n!!\\n!!!\\n##\\n#!\\n!!!!\\n!\\n!!!\\n!!!\\n!\\n!\\n!!#\\n!\\n!!!\\n!#!\\n!!!!\\n######!\\n!!!\\n! #!#\\n!!\\n!\\n!\\n!!!\\n!!!\\n##\\n## !!##!\\n#!\\n!!!!!\\n#!\\n!!\\n#\\n!\\n##!\\n!\\n######!\\n!!\\n!!\\n!\\n!!\\n!!\\n#!\\n!!\\n!\\n!!\\n#!\\n##!!\\n!\\n!\\n####!\\n!!\\n#!!\\n!!!\\n!!\\n!\\n!!\\n#!!#\\n!!!#\\n!\\n!!!\\n!!!!\\n#!!!\\n!!\\n# !!!\\n!!!!!!\\n!\\n!\\n!!!\\n!!!##!!\\n!!\\n!!!!\\n#!\\n###\\n!!\\n!!!! !!!\\n!!!\\n!! ##\\n!!\\n#!!!\\n!!!!\\n!\\n!!!!!!\\n#!!\\n!!\\n!!!\\n!#\\n###\\n!#\\n!!\\n!!\\n!!!\\n#!\\n!!!\\n!!!!\\n!\\n!!\\n!!!\\n!\\n#!\\n#!!\\n#\\n!\\n!!\\n!!\\n!!\\n!!\\n!!!!\\n!!\\n!!\\n!!\\n!\\n#!!!\\n#!\\n!!\\n!#\\n!!!\\n!\\n!!#!\\n!\\n!!!!\\n!\\n!!\\n!!\\n!!\\n!!#\\n!!!\\n!!\\n!\\n!!\\n!!\\n!\\n!!!!\\n#!\\n!#!\\n!\\n!\\n!!#\\n!!\\n!\\n!!\\n!!!!\\n#!\\n#!\\n!!\\n!!!\\n!!\\n!#!\\n!\\n##!!\\n!\\n!!!\\n!!\\n!Sringi\\nRolwalingPamariLangtang GaneshManaslu\\nUmbakKutang\\nAnnapurnaNilgiriLugulaPalchung Hagma\\nGautamKanjirobaNalakankar\\nJanakChangla\\nKanchanjungaMahalangurJugalPeriDamodarMustang\\nDhaulagiriGautamKantiGorakhChandi\\nGurans\\n86°38\\'0\"E86°38\\'0\"E\\n84°17\\'40\"E84°17\\'40\"E\\n81°57\\'20\"E81°57\\'20\"E\\n29°17\\'0\"N29°17\\'0\"N\\n26°56\\'40\"N26°56\\'40\"NOpen Peaks for Mountaineering\\n±\\n0 60 120 180 240 30KmPeaks\\nCategories\\n# >=8000\\n# 7501 - 7999\\n#7000 - 7500\\n!6501 - 6999\\n!<=6500Himalayan Range\\nLocal Adminstrative Boundary\\nInternational_Boundary'),\n",
       " Document(metadata={'source': '..\\\\data\\\\pdfs\\\\mountainpeaks.pdf', 'page': 9}, page_content='Journal of Tourism and Himalayan Adventures, V ol. 3, ISSN: 2717 -5030 (Print) 2738-9642 (Online)   Mountain ... | 71\\n6 6501 - 6999 400 200\\n7 Mt. Amadablam (6812M) 400 400\\n8 <=6500 250 125\\nSource: DOT, 2020\\nThe mountaineering royalty in Nepali rupees for Nepali climbers also varies with the height \\nof peaks, seasons, and routes (See table 6).\\nTable 8: Mountaineering royalty for Nepali climber per person in NRP \\nS. N. Peak Categories Spring Season Autumn Season\\n1 Everest Normal route 75000 375002 Everest Other route 600000 300003 Other Mountain Peaks >=8000 10000 50004 7501 - 7999 8000 4000\\n5 7000 - 7500 6000 30006 6501 - 6999 5000 2500\\n7 Mt. Amadablam (6812M) 8000 80008 <=6500 4000 2000\\nSource: DOT, 2020\\nDiscussion\\nTraditionally trigonometric land survey was an effective tool for measuring and mapping \\nheight of mountains (Punmiya, 1995). Before that, travelers used to sketch the mountain ranges pretty accurately. Sir George Everest scienti ﬁcally measured the Himalayan peaks, \\nincluding Sagarmatha (Mt. Everest), the highest peak (8848.86 m) of the world, from 1830 to 1843 (Smith, 1999), and in 1961, this region was mapped by the Royal Geographical Society (Ward, 2013) based on stereo photogrammetric expeditions. Gurung (1994), DOS (1998) and CDG (2002) mapped Himalayan peaks of Nepal based on the aerial photo using the stereo-photogrammetric method. Gurung (1994) listed out Himalaya peaks based on topographic maps (Nepal west sheet 1967 and Nepal east sheet 1969) by the UK Ministry of Defense and Sino Nepal border Map 1962. DOS (1998) worked on a topo map of Nepal with spot heights, including Himalaya peaks and place heights. CDG (2002) mapped Nepal Himalaya peaks based on a topographic map published by DOS for the eastern part of Nepal and rest of the peaks were done using the Sino-Nepal Border Map 1962. \\nThe table shows the list of peaks opened for mountaineering. Out of the total peaks greater or \\nequal to 8000 meters asl, 14 (88 percent) peaks are opened for mountaineering. Similarly, the peaks range from 7501 m to 7999 m, 7000 m to 7500 m, 6501 m to 6999 m, and 6000 m to 6500 m are open 70, 59, 58, and 17 percent respectively. There are the highest peaks opened for mountaineering in highest percent.'),\n",
       " Document(metadata={'source': '..\\\\data\\\\pdfs\\\\mountainpeaks.pdf', 'page': 10}, page_content=\"72 | Gurung\\nTable 9: Nepal Himalaya peaks and open peaks for mountaineering\\nS.N. CategoriesNo. of Peaks\\nPeaks Open for \\nMountaineeringGurung 1994DOS 1998 (Including \\nspots height)CDG 2002\\n1 >= 8000 17 23 15 14\\n2 7501 - 7999 40 57 29 24\\n3 7000 - 7500 87 115 73 474 6501 - 6999 301 364 197 1385 6000 - 6500 865 8762 1478 188\\nTotal 1310 9321 1792 411\\nSource: Gurung, 1994, DOS, 1998, CDG, 2002 & DOT, 2015\\nAdvancement of space science and technology, Digital Elevation Model (DEM) data and \\ntechnique automatically detect the mountain peaks and terrain features (Graff & Usery, 1993). Global Navigation Satellite System (GNSS) is also a recent advanced space technology for mapping Himalayas and mountains. Recently, the Department of Survey, Government of Nepal, measured Sagarmatha’s height using GNSS (DOS, 2020). DEM and GNSS techniques will be the supportive tools for detecting Himalaya peaks and terrains in detail.\\nConclusion\\nNepal is a mountainous country with numerous peaks and pinnacles. There are different facts and ﬁgures about the number of Himalayan peaks with height and name. Although there is an \\ninverse relationship between the number and height of peaks, the Department of Survey has digitized more peaks and pinnacles but needs more detailed work to separate peaks and spot heights. The Nepal Himalaya peaks opened for mountaineering are concentrated in the eastern part of the country. This study concludes that the needed amount of detailed study lacks appropriately due to the shortage of technical expertise and sources. So, detailed research activities are requuired to explore unidenti ﬁed and unnamed mountains and potential \\nmountaineering using DEM and GNSS space technology. These methods also support exploring physical characteristics of Himalaya like rock type, slope, aspect, slope and height which help to ﬁnd alternative routes to promote mountaineering in all seasons and all parts of \\nthe Nepal Himalaya and develop mountaineering sustainably. It also supports the determined scienti ﬁc mountaineering royalty based on mountaineering techniques.  \\n•\\nReferences\\nCBS (2014). Population Projection 2011 – 2031. National Population and Housing Census 2011 . \\nVolume 08, NPHC 2011. Ramshahpath, Kathmandu, Nepal. August.\\nCDG.(2002). Inventory of Nepal Himalaya . His Majesty's Government Ministry of Tourism and Civil \\nAviation, Kathmandu, Nepal.\\nDOS. (2020). 1998, Spot Heights  (Shape ﬁle), Department of Survey, Department of Survey, DOS, His \\nMajesty's Government Ministry of Land Reform and Management, Kathmandu, Nepal.\\nDOS. (2020). Nepal Map (Political and Administrative) Shape ﬁle. Department of Survey (DOS). \\nGovernment of Nepal Ministry of Land Management, Cooperative and Poverty Alleviation, Kathmandu. Nepal. http://dos.gov.np/nepal-map\"),\n",
       " Document(metadata={'source': '..\\\\data\\\\pdfs\\\\mountainpeaks.pdf', 'page': 11}, page_content='Journal of Tourism and Himalayan Adventures, V ol. 3, ISSN: 2717 -5030 (Print) 2738-9642 (Online)   Mountain ... | 73\\nDOT. (2015). Total number of peaks opened . Department of Tourism (DOT). Government of Nepal, \\nMinistry of  Culture, Tourism and Civil Aviation. Kathmandu, Nepal. https://www.tourismdepartment.gov.np/publications/12\\nDOT. (2015). Mountaineering Royalty . Department of Tourism (DOT). Government of Nepal, Ministry \\nof  Culture, Tourism and Civil Aviation. Kathmandu, Nepal. https://www.tourismdepartment.gov.np/publications/12\\nGraff, L. H. & Usery, E. L.(1993). Automated classi ﬁcation of generic terrain features in digital \\nelevation models. Photogramm. Eng. Remote Sensing, Vol. 59, PP. 1409-1417.\\nGurung, H. (1994). Nepal Himalaya Inventory . His Majesty\\'s Government Ministry of Tourism and \\nCivil Aviation. Kathmandu, Nepal.\\nGurung, H. (2004). Himalayan Re ﬂection: Pattern and Development . Mandala Publication, Kathmandu, \\nNepal.Google Earth Pro 6.2.1.6014 (beta). (October 5, 2011). Nepal. 22° 02\\' N, 85° 13\\' 50.11\"W, Eye alt 36 mi. Borders and labels; places layers. NOAA, Digital Globe 2013. (Accessed Nov 1, 2020).\\nHoward, C. (2016). Walking with the Gods: the Himalayas as (dis)enchanted landscape.Molnar, P., & Tapponnier, P. (1977). The Collision between India and Eurasia . Scienti ﬁc American, \\n236(4), 30-41. Retrieved March 2, 2021, from http://www.jstor.org/stable/24953979.\\nMusa, G., James, H., & Anna, T. C. (2015). Mountaineering Tourism . Mountaineering Tourism: \\nActivity, People and Place. London: Routledge.\\nPunmiya, B. C. (1995). Surveying Vol. II . Laxmi Publication, Delhi, India\\nSharma E., Molden, D.,  Rahman, A.,  Khatiwada, Y. R., Zhang, L., Singh, S. P., Yao, T.,  & Wester  \\nP., (2019) Introduction to the Hindu Kush Himalaya Assessment . In: Wester P., Mishra A., \\nMukherji A., Shrestha A. (eds) The Hindu Kush Himalaya Assessment. Springer, Cham. https://doi.org/10.1007/978-3-319-92288-1_1\\nSmith. J. R.  (1999). Everest: The Man and the Mountain . Caithness: Whittles Publishing. ISBN \\n1-870325-72-9.\\nUpadhyay, P. (2019). Tourism Policy of Nepal and Sustainable Mountain Tourism Development in \\nRetrospect. The Gaze Journal of Tourism and Hospitality Vol. 10 , International School of \\nTourism and Hotel Management, Kathmandu Nepal. PP 37-50.\\nUSGS. (1999). The Himalayas: Two continents collide . United State Geological Society, USGS. 5 May \\n1999. Retrieved 3 January 2015.\\nViviroli, D., Du¨rr, H. H., Messerli, B., Meybeck, M., & Weingartner, R. (2007). Mountains of the \\nworld, water towers for humanity: Typology, mapping, and global signi ﬁcance, Water Resour . \\nRes., 43, W07447, doi:10.1029/2006WR005653\\nWard, M. P. (1994). Mapping Everest. The Cartographic Journal, 31: 1, 33-44, DOI: \\n10.1179/000870494787073637\\nWWF. (2021). Eastern Himalaya. https://www.wwf.org.uk/where-we-work/places/eastern-\\nhimalayasDownload: 3/2/2021 \\nYang, Q. & Zheng, D. (2004). Himalayan Mountain System . ISBN 978-7-5085-0665-4. Retrieved 30 \\nJune 2019.\\n 1. www.byjus.com downloaded 3/2/2021\\n 2. https://www.britannica.com/3/3/2021\\n 3. www.dos.gov.np\\nView publication stats')]"
      ]
     },
     "execution_count": 24,
     "metadata": {},
     "output_type": "execute_result"
    }
   ],
   "source": [
    "extracted_data"
   ]
  },
  {
   "cell_type": "code",
   "execution_count": 28,
   "metadata": {},
   "outputs": [],
   "source": [
    "def text_split(extracted_data):\n",
    "    text_splitter = RecursiveCharacterTextSplitter(chunk_size=500, chunk_overlap=20)\n",
    "    text_chunks = text_splitter.split_documents(extracted_data)\n",
    "\n",
    "    return text_chunks"
   ]
  },
  {
   "cell_type": "code",
   "execution_count": 29,
   "metadata": {},
   "outputs": [],
   "source": [
    "text_chunks = text_split(extracted_data)\n"
   ]
  },
  {
   "cell_type": "code",
   "execution_count": 32,
   "metadata": {},
   "outputs": [
    {
     "data": {
      "text/plain": [
       "12"
      ]
     },
     "execution_count": 32,
     "metadata": {},
     "output_type": "execute_result"
    }
   ],
   "source": [
    "len(extracted_data)"
   ]
  },
  {
   "cell_type": "code",
   "execution_count": 31,
   "metadata": {},
   "outputs": [
    {
     "data": {
      "text/plain": [
       "103"
      ]
     },
     "execution_count": 31,
     "metadata": {},
     "output_type": "execute_result"
    }
   ],
   "source": [
    "len(text_chunks)"
   ]
  },
  {
   "cell_type": "code",
   "execution_count": 34,
   "metadata": {},
   "outputs": [],
   "source": [
    "# download embedding model\n",
    "def download_hugging_face_embeddings():\n",
    "    embeddings = HuggingFaceEmbeddings(model_name=\"sentence-transformers/all-MiniLM-L6-v2\") #sentence transformers\n",
    "    return embeddings"
   ]
  },
  {
   "cell_type": "code",
   "execution_count": 37,
   "metadata": {},
   "outputs": [
    {
     "name": "stderr",
     "output_type": "stream",
     "text": [
      "d:\\palmmind\\palmenv\\Lib\\site-packages\\sentence_transformers\\cross_encoder\\CrossEncoder.py:13: TqdmWarning: IProgress not found. Please update jupyter and ipywidgets. See https://ipywidgets.readthedocs.io/en/stable/user_install.html\n",
      "  from tqdm.autonotebook import tqdm, trange\n",
      "d:\\palmmind\\palmenv\\Lib\\site-packages\\transformers\\tokenization_utils_base.py:1601: FutureWarning: `clean_up_tokenization_spaces` was not set. It will be set to `True` by default. This behavior will be depracted in transformers v4.45, and will be then set to `False` by default. For more details check this issue: https://github.com/huggingface/transformers/issues/31884\n",
      "  warnings.warn(\n"
     ]
    }
   ],
   "source": [
    "embeddings = download_hugging_face_embeddings()"
   ]
  },
  {
   "cell_type": "code",
   "execution_count": 38,
   "metadata": {},
   "outputs": [
    {
     "name": "stdout",
     "output_type": "stream",
     "text": [
      "length 384\n"
     ]
    }
   ],
   "source": [
    "query_result = embeddings.embed_query(\"Hello world!\")\n",
    "print(\"length\", len(query_result))"
   ]
  },
  {
   "cell_type": "code",
   "execution_count": 112,
   "metadata": {},
   "outputs": [],
   "source": [
    "from langchain.docstore.document import Document\n",
    "\n",
    "def store_embeddings_in_faiss_langchain(text_chunks, embeddings_model):\n",
    "    # Initialize the embedding model (sentence-transformers/all-MiniLM-L6-v2)\n",
    "\n",
    "    # Prepare the texts and corresponding embeddings\n",
    "    texts = [chunk.page_content for chunk in text_chunks]  # Extract text content from chunks\n",
    "    \n",
    "    # Use LangChain's FAISS to generate embeddings and store them\n",
    "    faiss_store = FAISS.from_texts(texts, embeddings_model)\n",
    "\n",
    "    return faiss_store  # Returns the FAISS vector store with indexed documen"
   ]
  },
  {
   "cell_type": "code",
   "execution_count": 55,
   "metadata": {},
   "outputs": [],
   "source": [
    "# Create a FAISS index and store embeddings\n",
    "def store_embeddings_in_faiss(text_chunks, embeddings_model):\n",
    "    embedding_dim = 384  # All-MiniLM-L6-v2 produces 384-dimensional embeddings\n",
    "\n",
    "    index = faiss.IndexFlatL2(embedding_dim)\n",
    "\n",
    "    # Create a list to store the documents and their embeddings\n",
    "    texts = []\n",
    "    embeddings = []\n",
    "\n",
    "    # Generate embeddings for each chunk and store them in the FAISS index\n",
    "    for chunk in text_chunks:\n",
    "        text = chunk.page_content\n",
    "        texts.append(text)\n",
    "        \n",
    "        embedding = embeddings_model.embed_documents([text])[0]  \n",
    "        embeddings.append(embedding)\n",
    "\n",
    "    # Convert the list of embeddings into a numpy array and add to FAISS index\n",
    "    np_embeddings = np.array(embeddings, dtype=\"float32\")\n",
    "    index.add(np_embeddings)\n",
    "\n",
    "    return index, texts"
   ]
  },
  {
   "cell_type": "code",
   "execution_count": 122,
   "metadata": {},
   "outputs": [],
   "source": [
    "# Function to query FAISS for the nearest neighbors\n",
    "def query_faiss(index, embeddings_model, query_text, texts, k=3):\n",
    "    # Generate the embedding for the query using `embed_query`\n",
    "    query_embedding = embeddings_model.embed_query(query_text)  # Pass string directly, not a list\n",
    "    \n",
    "    # Perform similarity search (find k nearest neighbors)\n",
    "    distances, indices = index.search(np.array([query_embedding], dtype=\"float32\"), k)\n",
    "    \n",
    "    # Retrieve the corresponding texts for the nearest neighbors\n",
    "    results = [texts[i] for i in indices[0]]\n",
    "    \n",
    "    return results, distances"
   ]
  },
  {
   "cell_type": "code",
   "execution_count": 116,
   "metadata": {},
   "outputs": [],
   "source": [
    "# Function to query the FAISS vector store\n",
    "\n",
    "\n",
    "def query_faiss_langchain(faiss_store, query_text):\n",
    "\n",
    "    # Initialize the embedding model again for query embedding generation\n",
    "    embeddings_model = HuggingFaceEmbeddings(model_name=\"sentence-transformers/all-MiniLM-L6-v2\")\n",
    "    \n",
    "    # Perform the similarity search on the FAISS index\n",
    "    results = faiss_store.similarity_search(query_text, k=3)  # Retrieve top-k most similar documents\n",
    "\n",
    "    return results"
   ]
  },
  {
   "cell_type": "code",
   "execution_count": 113,
   "metadata": {},
   "outputs": [],
   "source": [
    "    # Store embeddings in FAISS\n",
    "texts = store_embeddings_in_faiss_langchain(text_chunks, embeddings)"
   ]
  },
  {
   "cell_type": "code",
   "execution_count": null,
   "metadata": {},
   "outputs": [],
   "source": []
  },
  {
   "cell_type": "code",
   "execution_count": null,
   "metadata": {},
   "outputs": [],
   "source": [
    "index, texts = store_embeddings_in_faiss(text_chunks, embeddings)"
   ]
  },
  {
   "cell_type": "code",
   "execution_count": 119,
   "metadata": {},
   "outputs": [
    {
     "name": "stderr",
     "output_type": "stream",
     "text": [
      "d:\\palmmind\\palmenv\\Lib\\site-packages\\transformers\\tokenization_utils_base.py:1601: FutureWarning: `clean_up_tokenization_spaces` was not set. It will be set to `True` by default. This behavior will be depracted in transformers v4.45, and will be then set to `False` by default. For more details check this issue: https://github.com/huggingface/transformers/issues/31884\n",
      "  warnings.warn(\n"
     ]
    },
    {
     "name": "stdout",
     "output_type": "stream",
     "text": [
      "Query Results:\n",
      "USGS. (1999). The Himalayas: Two continents collide . United State Geological Society, USGS. 5 May \n",
      "1999. Retrieved 3 January 2015.\n",
      "Viviroli, D., Du¨rr, H. H., Messerli, B., Meybeck, M., & Weingartner, R. (2007). Mountains of the \n",
      "world, water towers for humanity: Typology, mapping, and global signi ﬁcance, Water Resour . \n",
      "Res., 43, W07447, doi:10.1029/2006WR005653\n",
      "Ward, M. P. (1994). Mapping Everest. The Cartographic Journal, 31: 1, 33-44, DOI: \n",
      "10.1179/000870494787073637\n",
      "=======================================\n",
      "USGS. (1999). The Himalayas: Two continents collide . United State Geological Society, USGS. 5 May \n",
      "1999. Retrieved 3 January 2015.\n",
      "Viviroli, D., Du¨rr, H. H., Messerli, B., Meybeck, M., & Weingartner, R. (2007). Mountains of the \n",
      "world, water towers for humanity: Typology, mapping, and global signi ﬁcance, Water Resour . \n",
      "Res., 43, W07447, doi:10.1029/2006WR005653\n",
      "Ward, M. P. (1994). Mapping Everest. The Cartographic Journal, 31: 1, 33-44, DOI: \n",
      "10.1179/000870494787073637\n",
      "=======================================\n",
      "USGS. (1999). The Himalayas: Two continents collide . United State Geological Society, USGS. 5 May \n",
      "1999. Retrieved 3 January 2015.\n",
      "Viviroli, D., Du¨rr, H. H., Messerli, B., Meybeck, M., & Weingartner, R. (2007). Mountains of the \n",
      "world, water towers for humanity: Typology, mapping, and global signi ﬁcance, Water Resour . \n",
      "Res., 43, W07447, doi:10.1029/2006WR005653\n",
      "Ward, M. P. (1994). Mapping Everest. The Cartographic Journal, 31: 1, 33-44, DOI: \n",
      "10.1179/000870494787073637\n",
      "=======================================\n"
     ]
    }
   ],
   "source": [
    "query_text = \"Where is Mount Everest?\"\n",
    "results = query_faiss_langchain(texts, query_text)\n",
    "\n",
    "print(\"Query Results:\")\n",
    "for result in results:\n",
    "    print(results[0].page_content)\n",
    "    print(\"=======================================\")"
   ]
  },
  {
   "cell_type": "code",
   "execution_count": 64,
   "metadata": {},
   "outputs": [
    {
     "name": "stdout",
     "output_type": "stream",
     "text": [
      "Query Results:\n",
      "Text: USGS. (1999). The Himalayas: Two continents collide . United State Geological Society, USGS. 5 May \n",
      "1999. Retrieved 3 January 2015.\n",
      "Viviroli, D., Du¨rr, H. H., Messerli, B., Meybeck, M., & Weingartner, R. (2007). Mountains of the \n",
      "world, water towers for humanity: Typology, mapping, and global signi ﬁcance, Water Resour . \n",
      "Res., 43, W07447, doi:10.1029/2006WR005653\n",
      "Ward, M. P. (1994). Mapping Everest. The Cartographic Journal, 31: 1, 33-44, DOI: \n",
      "10.1179/000870494787073637, Distance: 0.7722309827804565\n",
      "=======================================\n",
      "Text: Himalayan range based on systematic exploration (Britanica, 2021). In the mid 19th century, Nepal and Indian mountains were measured by the systematic trigonometric survey, and during this time, the highest peak of the world was named Sagarmatha (Mt. Everest) after Sir George Everest in 1865. In Nepal, the ﬁrst efforts were carried out to mapping peaks in the, Distance: 0.8387680053710938\n",
      "=======================================\n",
      "Text: Nepal is a mountainous country with numerous peaks and pinnacles. Its surface con ﬁguration, Distance: 0.8457598686218262\n",
      "=======================================\n"
     ]
    }
   ],
   "source": [
    "# Query the FAISS index\n",
    "query_text = \"Where is Mount Everest?\"\n",
    "results, distances = query_faiss(index, embeddings, query_text, texts, k=3)\n",
    "\n",
    "print(\"Query Results:\")\n",
    "for result, distance in zip(results, distances[0]):\n",
    "    print(f\"Text: {result}, Distance: {distance}\")\n",
    "    print(\"=======================================\")"
   ]
  },
  {
   "cell_type": "code",
   "execution_count": 120,
   "metadata": {},
   "outputs": [],
   "source": [
    "def generate_llama_response(client, query_text, retrieved_texts):\n",
    "    # Create a prompt with the query and the retrieved documents\n",
    "    template = \"\"\"You are a helpful assistant. Use the following retrieved documents to answer the question in a helpful way.\n",
    "\n",
    "    Retrieved Documents:\n",
    "    {retrieved_texts}\n",
    "    \n",
    "    Question: {query_text}\n",
    "    \n",
    "    Answer:\"\"\"\n",
    "    \n",
    "    # Define the PromptTemplate\n",
    "    prompt = PromptTemplate(\n",
    "        input_variables=[\"retrieved_texts\", \"query_text\"],\n",
    "        template=template,\n",
    "    )\n",
    "    \n",
    "    # Format the prompt with the retrieved documents and query\n",
    "    formatted_prompt = prompt.format(\n",
    "        retrieved_texts=\"\\n\".join(retrieved_texts),\n",
    "        query_text=query_text,\n",
    "    )\n",
    "    \n",
    "    # Call the Groq LLaMA3 model to generate an answer\n",
    "    # chat_completion = client.chat.completions.create(\n",
    "    #     messages=[\n",
    "    #         {\n",
    "    #             \"role\": \"system\",\n",
    "    #             \"content\": \"You are a helpful assistant.\"\n",
    "    #         },\n",
    "    #         {\n",
    "    #             \"role\": \"user\",\n",
    "    #             \"content\": formatted_prompt,  # Pass the formatted prompt as the user input\n",
    "    #         }\n",
    "    #     ],\n",
    "    #     model=\"llama3-8b-8192\",  # Adjust model as necessary\n",
    "    #     temperature=0.5,          # Adjust the temperature for randomness\n",
    "    #     top_p=0.9,                # Use top-p sampling for diversity\n",
    "    #     stop=None,                # Option to define stopping tokens\n",
    "    #     max_tokens=200            # Limit the number of tokens in the response\n",
    "    # )\n",
    "\n",
    "    response = client.generate(formatted_prompt)\n",
    "\n",
    "    # Extract and return the generated answer from the response\n",
    "    # return chat_completion.choices[0].message.content\n",
    "    return response\n",
    "    \n"
   ]
  },
  {
   "cell_type": "code",
   "execution_count": 123,
   "metadata": {},
   "outputs": [
    {
     "ename": "TypeError",
     "evalue": "'FAISS' object is not subscriptable",
     "output_type": "error",
     "traceback": [
      "\u001b[1;31m---------------------------------------------------------------------------\u001b[0m",
      "\u001b[1;31mTypeError\u001b[0m                                 Traceback (most recent call last)",
      "Cell \u001b[1;32mIn[123], line 4\u001b[0m\n\u001b[0;32m      1\u001b[0m query_text \u001b[38;5;241m=\u001b[39m \u001b[38;5;124m\"\u001b[39m\u001b[38;5;124mWhere is Mount Everest located?\u001b[39m\u001b[38;5;124m\"\u001b[39m\n\u001b[0;32m      3\u001b[0m     \u001b[38;5;66;03m# Step 1: Retrieve relevant documents from FAISS\u001b[39;00m\n\u001b[1;32m----> 4\u001b[0m retrieved_texts \u001b[38;5;241m=\u001b[39m \u001b[43mquery_faiss\u001b[49m\u001b[43m(\u001b[49m\u001b[43mindex\u001b[49m\u001b[43m,\u001b[49m\u001b[43m \u001b[49m\u001b[43membeddings\u001b[49m\u001b[43m,\u001b[49m\u001b[43m \u001b[49m\u001b[43mquery_text\u001b[49m\u001b[43m,\u001b[49m\u001b[43m \u001b[49m\u001b[43mtexts\u001b[49m\u001b[43m,\u001b[49m\u001b[43m \u001b[49m\u001b[43mk\u001b[49m\u001b[38;5;241;43m=\u001b[39;49m\u001b[38;5;241;43m1\u001b[39;49m\u001b[43m)\u001b[49m\n\u001b[0;32m      6\u001b[0m retrieved_texts \u001b[38;5;241m=\u001b[39m \u001b[38;5;124m\"\u001b[39m\u001b[38;5;130;01m\\n\u001b[39;00m\u001b[38;5;124m\"\u001b[39m\u001b[38;5;241m.\u001b[39mjoin(retrieved_texts[\u001b[38;5;241m0\u001b[39m])\n\u001b[0;32m      9\u001b[0m     \u001b[38;5;66;03m# Step 2: Use LLaMA to generate an answer based on the retrieved documents\u001b[39;00m\n",
      "Cell \u001b[1;32mIn[122], line 10\u001b[0m, in \u001b[0;36mquery_faiss\u001b[1;34m(index, embeddings_model, query_text, texts, k)\u001b[0m\n\u001b[0;32m      7\u001b[0m distances, indices \u001b[38;5;241m=\u001b[39m index\u001b[38;5;241m.\u001b[39msearch(np\u001b[38;5;241m.\u001b[39marray([query_embedding], dtype\u001b[38;5;241m=\u001b[39m\u001b[38;5;124m\"\u001b[39m\u001b[38;5;124mfloat32\u001b[39m\u001b[38;5;124m\"\u001b[39m), k)\n\u001b[0;32m      9\u001b[0m \u001b[38;5;66;03m# Retrieve the corresponding texts for the nearest neighbors\u001b[39;00m\n\u001b[1;32m---> 10\u001b[0m results \u001b[38;5;241m=\u001b[39m [\u001b[43mtexts\u001b[49m\u001b[43m[\u001b[49m\u001b[43mi\u001b[49m\u001b[43m]\u001b[49m \u001b[38;5;28;01mfor\u001b[39;00m i \u001b[38;5;129;01min\u001b[39;00m indices[\u001b[38;5;241m0\u001b[39m]]\n\u001b[0;32m     12\u001b[0m \u001b[38;5;28;01mreturn\u001b[39;00m results, distances\n",
      "\u001b[1;31mTypeError\u001b[0m: 'FAISS' object is not subscriptable"
     ]
    }
   ],
   "source": [
    "query_text = \"Where is Mount Everest located?\"\n",
    "\n",
    "    # Step 1: Retrieve relevant documents from FAISS\n",
    "retrieved_texts = query_faiss(index, embeddings, query_text, texts, k=1)\n",
    "\n",
    "retrieved_texts = \"\\n\".join(retrieved_texts[0])\n",
    "\n",
    "\n",
    "    # Step 2: Use LLaMA to generate an answer based on the retrieved documents\n",
    "answer = generate_llama_response(client, query_text, retrieved_texts[0])\n",
    "\n",
    "    # Print the generated answer\n",
    "print(\"Generated Answer:\", answer)"
   ]
  },
  {
   "cell_type": "code",
   "execution_count": 88,
   "metadata": {},
   "outputs": [
    {
     "data": {
      "text/plain": [
       "'Based on the retrieved documents, I can answer your question!\\n\\nMount Everest is located in the Himalayas mountain range on the border between Nepal and Tibet, China.'"
      ]
     },
     "execution_count": 88,
     "metadata": {},
     "output_type": "execute_result"
    }
   ],
   "source": [
    "answer.choices[0].message.content"
   ]
  }
 ],
 "metadata": {
  "kernelspec": {
   "display_name": "palmenv",
   "language": "python",
   "name": "python3"
  },
  "language_info": {
   "codemirror_mode": {
    "name": "ipython",
    "version": 3
   },
   "file_extension": ".py",
   "mimetype": "text/x-python",
   "name": "python",
   "nbconvert_exporter": "python",
   "pygments_lexer": "ipython3",
   "version": "3.12.4"
  }
 },
 "nbformat": 4,
 "nbformat_minor": 2
}
